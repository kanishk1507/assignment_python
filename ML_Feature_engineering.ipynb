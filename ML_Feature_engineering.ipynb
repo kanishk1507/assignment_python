{
  "nbformat": 4,
  "nbformat_minor": 0,
  "metadata": {
    "colab": {
      "provenance": [],
      "toc_visible": true,
      "authorship_tag": "ABX9TyPvTtwsdWLgflieIW0EpCI/",
      "include_colab_link": true
    },
    "kernelspec": {
      "name": "python3",
      "display_name": "Python 3"
    },
    "language_info": {
      "name": "python"
    }
  },
  "cells": [
    {
      "cell_type": "markdown",
      "metadata": {
        "id": "view-in-github",
        "colab_type": "text"
      },
      "source": [
        "<a href=\"https://colab.research.google.com/github/thepersonuadmire/ML_FA/blob/main/ML_FA.ipynb\" target=\"_parent\"><img src=\"https://colab.research.google.com/assets/colab-badge.svg\" alt=\"Open In Colab\"/></a>"
      ]
    },
    {
      "cell_type": "markdown",
      "source": [
        "1. What is a parameter?\n",
        "\n"
      ],
      "metadata": {
        "id": "pSaukic8vshp"
      }
    },
    {
      "cell_type": "markdown",
      "source": [
        "A parameter is a variable in a model that is learned from the training data. In machine learning, parameters are the coefficients or weights that the model adjusts during training to minimize the error in predictions."
      ],
      "metadata": {
        "id": "8hdpmtQD4vhx"
      }
    },
    {
      "cell_type": "markdown",
      "source": [
        "2. What is correlation? What does negative correlation mean?\n"
      ],
      "metadata": {
        "id": "k3JytSgw3sps"
      }
    },
    {
      "cell_type": "markdown",
      "source": [
        " Correlation is a statistical measure that describes the strength and direction of a relationship between two variables. A negative correlation means that as one variable increases, the other variable tends to decrease. For example, there may be a negative correlation between the amount of exercise and body weight."
      ],
      "metadata": {
        "id": "7FQ6z5pB4zBf"
      }
    },
    {
      "cell_type": "markdown",
      "source": [
        "3. Define Machine Learning. What are the main components in Machine Learning?\n"
      ],
      "metadata": {
        "id": "bAMZrVKB3vqx"
      }
    },
    {
      "cell_type": "markdown",
      "source": [
        "Machine Learning is a branch of artificial intelligence that focuses on building systems that learn from data to make predictions or decisions without being explicitly programmed. The main components of machine learning include:\n",
        "\n",
        "Data: The input used to train the model.\n",
        "\n",
        "Algorithms: The methods used to learn from the data.\n",
        "\n",
        "Models: The output of the training process that can make predictions.\n",
        "Evaluation Metrics: Criteria used to assess the model's performance."
      ],
      "metadata": {
        "id": "Oy0V4F4F42hm"
      }
    },
    {
      "cell_type": "markdown",
      "source": [
        "4. How does loss value help in determining whether the model is good or not?\n"
      ],
      "metadata": {
        "id": "zKuQq0-r3ySo"
      }
    },
    {
      "cell_type": "markdown",
      "source": [
        "The loss value quantifies how well the model's predictions match the actual outcomes. A lower loss value indicates better performance, as it means the model's predictions are closer to the true values. Monitoring the loss during training helps in understanding if the model is learning effectively."
      ],
      "metadata": {
        "id": "cfBl-8yY4-JW"
      }
    },
    {
      "cell_type": "markdown",
      "source": [
        "5. What are continuous and categorical variables?\n"
      ],
      "metadata": {
        "id": "s-HturrG30Hi"
      }
    },
    {
      "cell_type": "markdown",
      "source": [
        "Continuous Variables: Numerical values that can take any value within a range (e.g., height, weight, temperature).\n",
        "\n",
        "Categorical Variables: Discrete categories or groups (e.g., gender, color, type of animal)."
      ],
      "metadata": {
        "id": "bJEVQXL55LHz"
      }
    },
    {
      "cell_type": "markdown",
      "source": [
        "6. How do we handle categorical variables in Machine Learning? What are the common techniques?\n"
      ],
      "metadata": {
        "id": "e6rKMwry32NF"
      }
    },
    {
      "cell_type": "markdown",
      "source": [
        "Categorical variables can be handled using techniques such as:\n",
        "\n",
        "One-Hot Encoding: Creating binary columns for each category.\n",
        "\n",
        "Label Encoding: Assigning a unique integer to each category.\n",
        "\n",
        "Ordinal Encoding: Assigning integers based on the order of categories."
      ],
      "metadata": {
        "id": "LZyAGAZs5OF9"
      }
    },
    {
      "cell_type": "markdown",
      "source": [
        "7. What do you mean by training and testing a dataset?\n"
      ],
      "metadata": {
        "id": "vINVjkS934gp"
      }
    },
    {
      "cell_type": "markdown",
      "source": [
        "Training a dataset involves using a portion of the data to teach the model how to make predictions. Testing a dataset involves evaluating the model's performance on a separate portion of the data that it has not seen before, to assess its generalization ability."
      ],
      "metadata": {
        "id": "tNkAl47T5VjS"
      }
    },
    {
      "cell_type": "markdown",
      "source": [
        "8. What is sklearn.preprocessing?\n"
      ],
      "metadata": {
        "id": "fdLh8Ruw365v"
      }
    },
    {
      "cell_type": "markdown",
      "source": [
        "***sklearn.preprocessing*** is a module in the Scikit-learn library that provides various functions and classes for preprocessing data, including scaling, normalization, encoding categorical variables, and more.\n",
        "\n"
      ],
      "metadata": {
        "id": "QCCIzthW5Ynq"
      }
    },
    {
      "cell_type": "markdown",
      "source": [
        "9. What is a Test set?\n"
      ],
      "metadata": {
        "id": "mmHhS8ic3878"
      }
    },
    {
      "cell_type": "markdown",
      "source": [
        "A test set is a subset of the dataset that is used to evaluate the performance of a trained model. It is separate from the training set to ensure that the model's performance is assessed on unseen data."
      ],
      "metadata": {
        "id": "tOtUOHKY5dq8"
      }
    },
    {
      "cell_type": "markdown",
      "source": [
        "10. How do we split data for model fitting (training and testing) in Python?\n",
        "How do you approach a Machine Learning problem?\n"
      ],
      "metadata": {
        "id": "snEh7AbW3-v_"
      }
    },
    {
      "cell_type": "markdown",
      "source": [
        " In Python, you can use the ***train_test_split*** function from ***the sklearn.model_selection*** module to split data into training and testing sets.\n",
        " For example:"
      ],
      "metadata": {
        "id": "IbaEotH05lIu"
      }
    },
    {
      "cell_type": "code",
      "source": [
        "from sklearn.model_selection import train_test_split\n",
        "X_train, X_test, y_train, y_test = train_test_split(X, y, test_size=0.2, random_state=42)"
      ],
      "metadata": {
        "id": "kXXbk-5U57mg"
      },
      "execution_count": null,
      "outputs": []
    },
    {
      "cell_type": "markdown",
      "source": [
        "11. Why do we have to perform EDA before fitting a model to the data?\n"
      ],
      "metadata": {
        "id": "JGd5FK-44GAa"
      }
    },
    {
      "cell_type": "markdown",
      "source": [
        "Exploratory Data Analysis (EDA) helps in understanding the data's structure, identifying patterns, detecting anomalies, and uncovering relationships between variables. This understanding is crucial for selecting appropriate models and preprocessing steps."
      ],
      "metadata": {
        "id": "CRB5zkQF6Cu4"
      }
    },
    {
      "cell_type": "markdown",
      "source": [
        "12. What is correlation?\n"
      ],
      "metadata": {
        "id": "IaSNscYp4Ilo"
      }
    },
    {
      "cell_type": "markdown",
      "source": [
        "Correlation is a statistical measure that indicates the extent to which two variables change together. It can be positive, negative, or zero, indicating the strength and direction of the relationship."
      ],
      "metadata": {
        "id": "j4a7b07G6Gmu"
      }
    },
    {
      "cell_type": "markdown",
      "source": [
        "13. What does negative correlation mean?\n"
      ],
      "metadata": {
        "id": "R24VHHPj4LFN"
      }
    },
    {
      "cell_type": "markdown",
      "source": [
        " Negative correlation indicates that as one variable increases, the other variable tends to decrease. It suggests an inverse relationship between the two variables."
      ],
      "metadata": {
        "id": "718QYZis6Jr7"
      }
    },
    {
      "cell_type": "markdown",
      "source": [
        "14. How can you find correlation between variables in Python?\n"
      ],
      "metadata": {
        "id": "wzJ7h6ba4Ndi"
      }
    },
    {
      "cell_type": "markdown",
      "source": [
        " You can find correlation using the corr() method in pandas DataFrames.\n",
        "\n",
        " For example:"
      ],
      "metadata": {
        "id": "b2lcg38F6Mkn"
      }
    },
    {
      "cell_type": "code",
      "source": [
        "import pandas as pd\n",
        "correlation_matrix = df.corr()"
      ],
      "metadata": {
        "id": "UfwdvmcG6Q7J"
      },
      "execution_count": null,
      "outputs": []
    },
    {
      "cell_type": "markdown",
      "source": [
        "15. What is causation? Explain the difference between correlation and causation with an example.\n"
      ],
      "metadata": {
        "id": "_xxbqaSu4RGU"
      }
    },
    {
      "cell_type": "markdown",
      "source": [
        "Causation indicates that one event is the result of the occurrence of another event. The difference between correlation and causation is that correlation does not imply causation. For example, there may be a correlation between ice cream sales and drowning incidents (both increase in summer), but it does not mean that ice cream sales cause drowning.\n",
        "\n"
      ],
      "metadata": {
        "id": "W3Zd3xo96S-q"
      }
    },
    {
      "cell_type": "markdown",
      "source": [
        "16. What is an Optimizer? What are different types of optimizers? Explain each with an example.\n"
      ],
      "metadata": {
        "id": "zaS8MTLA4VBJ"
      }
    },
    {
      "cell_type": "markdown",
      "source": [
        "An optimizer is an algorithm used to adjust the parameters of a model to minimize the loss function. Different types of optimizers include:\n",
        "\n",
        "Gradient Descent: A first-order optimization algorithm that updates parameters in the opposite direction of the gradient of the loss function. For example, in linear regression, it iteratively adjusts the coefficients to minimize the mean squared error.\n",
        "\n",
        "Stochastic Gradient Descent (SGD): A variant of gradient descent that updates parameters using only a single or a few training examples at a time, which can lead to faster convergence. For instance, in training a neural network, SGD can help escape local minima.\n",
        "\n",
        "Adam (Adaptive Moment Estimation): Combines the advantages of two other extensions of SGD. It keeps track of both the average of the gradients and the average of the squared gradients, allowing for adaptive learning rates. For example, Adam is commonly used in training deep learning models due to its efficiency."
      ],
      "metadata": {
        "id": "njCHrDCo63Y0"
      }
    },
    {
      "cell_type": "markdown",
      "source": [
        "17. What is sklearn.linear_model?\n"
      ],
      "metadata": {
        "id": "dX9UWRVN4X2i"
      }
    },
    {
      "cell_type": "markdown",
      "source": [
        "***sklearn.linear_model*** is a module in the Scikit-learn library that provides linear models for regression and classification tasks. It includes algorithms such as Linear Regression, Logistic Regression, Ridge Regression, and Lasso Regression, which are used to model relationships between input features and target variables."
      ],
      "metadata": {
        "id": "OijX7vQi6-Ul"
      }
    },
    {
      "cell_type": "markdown",
      "source": [
        "18. What does model.fit() do? What arguments must be given?\n"
      ],
      "metadata": {
        "id": "cq4kV7fr4aQO"
      }
    },
    {
      "cell_type": "markdown",
      "source": [
        "The ***model.fit()*** method is used to train the model on the provided training data. It requires at least two arguments: the input features (X) and the target variable (y).\n",
        "\n",
        "For example:"
      ],
      "metadata": {
        "id": "GTP0b2W47DKG"
      }
    },
    {
      "cell_type": "code",
      "source": [
        "model.fit(X_train, y_train)"
      ],
      "metadata": {
        "id": "AmTF2ifr7Pnr"
      },
      "execution_count": null,
      "outputs": []
    },
    {
      "cell_type": "markdown",
      "source": [
        "19. What does model.predict() do? What arguments must be given?\n"
      ],
      "metadata": {
        "id": "1QynCBCR4cl7"
      }
    },
    {
      "cell_type": "markdown",
      "source": [
        "***The model.predict()*** method is used to make predictions on new data. It requires the input features (X) for which predictions are to be made.\n",
        "\n",
        "For example:"
      ],
      "metadata": {
        "id": "Va-wJ0837Rql"
      }
    },
    {
      "cell_type": "code",
      "source": [
        "predictions = model.predict(X_test)"
      ],
      "metadata": {
        "id": "cRb-yYJG7ZxB"
      },
      "execution_count": null,
      "outputs": []
    },
    {
      "cell_type": "markdown",
      "source": [
        "20. What are continuous and categorical variables?\n"
      ],
      "metadata": {
        "id": "1UOUuwEe4esm"
      }
    },
    {
      "cell_type": "markdown",
      "source": [
        "Continuous Variables: Numerical values that can take any value within a range (e.g., height, weight, temperature).\n",
        "\n",
        "Categorical Variables: Discrete categories or groups (e.g., gender, color, type of animal)."
      ],
      "metadata": {
        "id": "irdNioxn7pvk"
      }
    },
    {
      "cell_type": "markdown",
      "source": [
        "21. What is feature scaling? How does it help in Machine Learning?\n"
      ],
      "metadata": {
        "id": "0-iP7xLS4h_8"
      }
    },
    {
      "cell_type": "markdown",
      "source": [
        "Feature scaling is the process of normalizing or standardizing the range of independent variables or features in the data. It helps in improving the convergence speed of gradient descent algorithms and ensures that features contribute equally to the distance calculations in algorithms like K-Nearest Neighbors and Support Vector Machines."
      ],
      "metadata": {
        "id": "Efm1lCq97yjB"
      }
    },
    {
      "cell_type": "markdown",
      "source": [
        "22. How do we perform scaling in Python?\n"
      ],
      "metadata": {
        "id": "4Zl4EElO4kOd"
      }
    },
    {
      "cell_type": "markdown",
      "source": [
        "You can perform scaling using the StandardScaler or MinMaxScaler from sklearn.preprocessing. For example, using StandardScaler:"
      ],
      "metadata": {
        "id": "5vAgCaip71OQ"
      }
    },
    {
      "cell_type": "code",
      "source": [
        "from sklearn.preprocessing import StandardScaler\n",
        "scaler = StandardScaler()\n",
        "X_scaled = scaler.fit_transform(X)"
      ],
      "metadata": {
        "id": "6rJIoKio7476"
      },
      "execution_count": null,
      "outputs": []
    },
    {
      "cell_type": "markdown",
      "source": [
        "23. What is sklearn.preprocessing?\n"
      ],
      "metadata": {
        "id": "UYE8Azix4nv7"
      }
    },
    {
      "cell_type": "markdown",
      "source": [
        "***sklearn.preprocessing*** is a module in the Scikit-learn library that provides various functions and classes for preprocessing data, including scaling, normalization, encoding categorical variables, and more."
      ],
      "metadata": {
        "id": "YvmfKeuZ77KA"
      }
    },
    {
      "cell_type": "markdown",
      "source": [
        "24. How do we split data for model fitting (training and testing) in Python?\n"
      ],
      "metadata": {
        "id": "9hIyqu-64p6A"
      }
    },
    {
      "cell_type": "markdown",
      "source": [
        "In Python, you can use the ***train_test_split***  function from the ***sklearn.model_selection*** module to split data into training and testing sets. For example:"
      ],
      "metadata": {
        "id": "gPo-LhlS8FOq"
      }
    },
    {
      "cell_type": "code",
      "source": [
        "from sklearn.model_selection import train_test_split\n",
        "X_train, X_test, y_train, y_test = train_test_split(X, y, test_size=0.2, random_state=42)"
      ],
      "metadata": {
        "id": "oMkzIrQV8m9X"
      },
      "execution_count": null,
      "outputs": []
    },
    {
      "cell_type": "markdown",
      "source": [
        "25. Explain data encoding."
      ],
      "metadata": {
        "id": "8rvPD8b14swY"
      }
    },
    {
      "cell_type": "markdown",
      "source": [
        " Data encoding is the process of converting categorical variables into a numerical format that can be used by machine learning algorithms. Common techniques include:\n",
        "\n",
        "One-Hot Encoding: Converts each category into a new binary column.\n",
        "\n",
        "Label Encoding: Assigns a unique integer to each category.\n",
        "\n",
        "Ordinal Encoding: Assigns integers based on the order of categories, useful for ordinal data."
      ],
      "metadata": {
        "id": "_QHMeLNh8rSu"
      }
    }
  ]
}