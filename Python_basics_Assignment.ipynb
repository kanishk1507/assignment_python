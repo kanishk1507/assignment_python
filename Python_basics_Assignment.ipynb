{
  "nbformat": 4,
  "nbformat_minor": 0,
  "metadata": {
    "colab": {
      "provenance": [],
      "authorship_tag": "ABX9TyPq1JXziktnZNFRt4S5V+fC",
      "include_colab_link": true
    },
    "kernelspec": {
      "name": "python3",
      "display_name": "Python 3"
    },
    "language_info": {
      "name": "python"
    }
  },
  "cells": [
    {
      "cell_type": "markdown",
      "metadata": {
        "id": "view-in-github",
        "colab_type": "text"
      },
      "source": [
        "<a href=\"https://colab.research.google.com/github/kanishk1507/assignment_python/blob/main/Python_basics_Assignment.ipynb\" target=\"_parent\"><img src=\"https://colab.research.google.com/assets/colab-badge.svg\" alt=\"Open In Colab\"/></a>"
      ]
    },
    {
      "cell_type": "markdown",
      "source": [
        "**Q1. Key features of python :**\n",
        "\n",
        "1. Simple and Readable Syntax: Python syntax is clear and concise, which makes it easy for beginners to learn and use effectively.\n",
        "2. Interpreted Language: Python is executed line by line, allowing for quick testing and debugging.\n",
        "3. Dynamically Typed: Variables don't need explicit declaration of types; they are determined at runtime.\n",
        "4. Large Standard Library: Python offers extensive libraries for diverse needs (e.g., math, datetime, os).\n",
        "5. Cross-Platform Compatibility: Python can run on various operating systems like Windows, macOS, and Linux.\n",
        "6. Extensive Community and Support: Python's community offers vast resources, libraries, and frameworks, making it suitable for web development, data science, AI, etc.\n",
        "\n",
        "\n",
        "\n"
      ],
      "metadata": {
        "id": "gEDm_5FhG6vc"
      }
    },
    {
      "cell_type": "markdown",
      "source": [
        "Q2. Role of oredefined keywords :\n",
        "\n",
        "Predefined keywords in Python are reserved words with special meanings, used to define the syntax and structure of the language. They cannot be used as variable names or identifiers.\n",
        "\n",
        "Examples:\n",
        "\n",
        "1. if, else, elif: Used in conditional statements.\n",
        "2. for, while: Used in loop structures.\n",
        "3. def: Used to define functions.\n",
        "4. class: Used to create a class.\n",
        "\n"
      ],
      "metadata": {
        "id": "37h1k3ToIB5a"
      }
    },
    {
      "cell_type": "code",
      "source": [
        "if True:\n",
        "    print(\"This is an example of the 'if' keyword.\")\n",
        "else:\n",
        "    print(\"This won't be executed.\")"
      ],
      "metadata": {
        "colab": {
          "base_uri": "https://localhost:8080/"
        },
        "id": "j6qA608TKK4s",
        "outputId": "3453b600-6585-4e1d-b204-2dfd0649064d"
      },
      "execution_count": 1,
      "outputs": [
        {
          "output_type": "stream",
          "name": "stdout",
          "text": [
            "This is an example of the 'if' keyword.\n"
          ]
        }
      ]
    },
    {
      "cell_type": "markdown",
      "source": [
        "Q3. mutable (changeable) or immutable (unchangeable):\n",
        "\n",
        "Mutable Objects: These can be modified after creation. Examples include lists, dictionaries, and sets.\n",
        "\n",
        "\n",
        "Immutable Objects: These cannot be changed once created. Examples include integers, strings, and tuples.\n"
      ],
      "metadata": {
        "id": "5uuiealyHwdE"
      }
    },
    {
      "cell_type": "code",
      "source": [
        "my_list = [1, 2, 3]\n",
        "my_list.append(4)  # List is modified to [1, 2, 3, 4]"
      ],
      "metadata": {
        "id": "YS4IP7HjKXpS"
      },
      "execution_count": 3,
      "outputs": []
    },
    {
      "cell_type": "code",
      "source": [
        "my_string = \"hello\"\n",
        "my_string[0] = 'H'  # This will raise an error as strings are immutable"
      ],
      "metadata": {
        "id": "vW82_2LAKjtP"
      },
      "execution_count": null,
      "outputs": []
    },
    {
      "cell_type": "markdown",
      "source": [
        "Q 4. Types of Operators in Python\n",
        "\n",
        "\n",
        "Python has various operators for different types of operations:\n",
        "\n",
        "Arithmetic Operators: +, -, *, /, %\n",
        "```\n",
        "print(5 + 3)  # Output: 8\n",
        "```\n",
        "\n",
        "Comparison Operators: ==, !=, >, <, >=, <=\n",
        "```\n",
        "print(5 > 3)  # Output: True\n",
        "```\n",
        "\n",
        "Logical Operators: and, or, not\n",
        "```\n",
        "print(True and False)  # Output: False\n",
        "```\n",
        "\n",
        "Assignment Operators: =, +=, -=, *=, /=\n",
        "```\n",
        "a = 5\n",
        "a += 3  # Equivalent to a = a + 3, so a is now 8\n",
        "```\n",
        "\n",
        "Membership Operators: in, not in\n",
        "```\n",
        "print('a' in 'apple')  # Output: True\n",
        "```\n",
        "\n",
        "\n"
      ],
      "metadata": {
        "id": "07_cr2NVJeuE"
      }
    },
    {
      "cell_type": "code",
      "source": [
        "print(5 + 3)  # Output: 8\n",
        "\n",
        "print(5 > 3)  # Output: True\n",
        "\n",
        "print(True and False)  # Output: False\n",
        "\n",
        "a = 5\n",
        "a += 3  # Equivalent to a = a + 3, so a is now 8\n",
        "\n",
        "print('a' in 'apple')  # Output: True"
      ],
      "metadata": {
        "id": "h48vFyKZKcYO"
      },
      "execution_count": null,
      "outputs": []
    },
    {
      "cell_type": "markdown",
      "source": [
        "Q5. Type casting converts one data type to another, allowing for operations that require specific types.\n",
        "\n",
        "\n",
        "Implicit Casting: Python automatically converts types where needed.\n",
        "\n",
        "\n",
        "Explicit Casting: Manually convert using int(), float(), str(), etc.\n",
        "\n",
        "\n"
      ],
      "metadata": {
        "id": "JVBcN7Q1LAAX"
      }
    },
    {
      "cell_type": "code",
      "source": [
        "result = 5 + 2.5 # int + float = float, result is 7.5 ----implicit\n"
      ],
      "metadata": {
        "id": "cuUgOoPfLLdi"
      },
      "execution_count": null,
      "outputs": []
    },
    {
      "cell_type": "code",
      "source": [
        "number = \"123\"\n",
        "number = \"123\"\n",
        "number = int(number) # Converts string \"123\" to integer 123 -----explicit"
      ],
      "metadata": {
        "id": "RkjrJnFkLQpR"
      },
      "execution_count": null,
      "outputs": []
    },
    {
      "cell_type": "markdown",
      "source": [
        "Q6. Conditional statements help control the flow of a program based on conditions:\n",
        "\n",
        "In this example, the if statement checks if the age is 18 or older, and executes the corresponding block of code based on this condition.\n",
        "\n"
      ],
      "metadata": {
        "id": "K7gktRiYLmRT"
      }
    },
    {
      "cell_type": "code",
      "source": [
        "age = 18\n",
        "if age >= 18:\n",
        "    print(\"You are eligible to vote.\")\n",
        "else:\n",
        "    print(\"You are not eligible to vote.\")\n"
      ],
      "metadata": {
        "id": "mpmND_p6LuNO"
      },
      "execution_count": null,
      "outputs": []
    },
    {
      "cell_type": "markdown",
      "source": [
        "Q7. Python supports two main types of loops:\n",
        "\n",
        "1. for Loop: Used for iterating over a sequence (like a list or string).\n",
        "\n",
        "2. while Loop: Runs as long as a condition is True.\n",
        "\n",
        "\n",
        "Use cases:\n",
        "1. Use for loops when the number of iterations is known or when looping over collections.\n",
        "2. Use while loops for indefinite iteration based on a condition."
      ],
      "metadata": {
        "id": "7DGx_Z51LzQT"
      }
    },
    {
      "cell_type": "code",
      "source": [
        "for i in range(5):\n",
        "    print(i)  # Outputs numbers 0 to 4"
      ],
      "metadata": {
        "id": "NSJG56fML-3F"
      },
      "execution_count": null,
      "outputs": []
    },
    {
      "cell_type": "code",
      "source": [
        "count = 0\n",
        "while count < 5:\n",
        "    print(count)  # Outputs numbers 0 to 4\n",
        "    count += 1"
      ],
      "metadata": {
        "id": "aDbdD1QRL_Y9"
      },
      "execution_count": null,
      "outputs": []
    }
  ]
}