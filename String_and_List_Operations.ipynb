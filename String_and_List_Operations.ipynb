{
  "nbformat": 4,
  "nbformat_minor": 5,
  "metadata": {
    "colab": {
      "provenance": [],
      "include_colab_link": true
    }
  },
  "cells": [
    {
      "cell_type": "markdown",
      "metadata": {
        "id": "view-in-github",
        "colab_type": "text"
      },
      "source": [
        "<a href=\"https://colab.research.google.com/github/kanishk1507/assignment_python/blob/main/String_and_List_Operations.ipynb\" target=\"_parent\"><img src=\"https://colab.research.google.com/assets/colab-badge.svg\" alt=\"Open In Colab\"/></a>"
      ]
    },
    {
      "cell_type": "markdown",
      "metadata": {
        "id": "8wNdMfwv2na6"
      },
      "source": [
        "### Reverse a String"
      ],
      "id": "8wNdMfwv2na6"
    },
    {
      "cell_type": "code",
      "metadata": {
        "id": "pX9Jn4aa2na7"
      },
      "source": [
        "def reverse_string(s):\n",
        "    return s[::-1]\n",
        "\n",
        "# Example\n",
        "print(reverse_string(\"hello\"))"
      ],
      "outputs": [],
      "execution_count": null,
      "id": "pX9Jn4aa2na7"
    },
    {
      "cell_type": "markdown",
      "metadata": {
        "id": "zy0kO6DR2na8"
      },
      "source": [
        "### Count the Number of Vowels in a String"
      ],
      "id": "zy0kO6DR2na8"
    },
    {
      "cell_type": "code",
      "metadata": {
        "id": "naqtudV02na8"
      },
      "source": [
        "def count_vowels(s):\n",
        "    vowels = \"aeiouAEIOU\"\n",
        "    return sum(1 for char in s if char in vowels)\n",
        "\n",
        "# Example\n",
        "print(count_vowels(\"hello world\"))"
      ],
      "outputs": [],
      "execution_count": null,
      "id": "naqtudV02na8"
    },
    {
      "cell_type": "markdown",
      "metadata": {
        "id": "u9xeut3h2na9"
      },
      "source": [
        "### Check if a String is a Palindrome"
      ],
      "id": "u9xeut3h2na9"
    },
    {
      "cell_type": "code",
      "metadata": {
        "id": "8Bc26lDW2na9"
      },
      "source": [
        "def is_palindrome(s):\n",
        "    s = s.lower().replace(\" \", \"\")  # Optional: Normalize string\n",
        "    return s == s[::-1]\n",
        "\n",
        "# Example\n",
        "print(is_palindrome(\"madam\"))"
      ],
      "outputs": [],
      "execution_count": null,
      "id": "8Bc26lDW2na9"
    },
    {
      "cell_type": "markdown",
      "metadata": {
        "id": "uh3uIJQU2na9"
      },
      "source": [
        "### Check if Two Strings are Anagrams"
      ],
      "id": "uh3uIJQU2na9"
    },
    {
      "cell_type": "code",
      "metadata": {
        "id": "kWs7ebAB2na9"
      },
      "source": [
        "def are_anagrams(s1, s2):\n",
        "    return sorted(s1) == sorted(s2)\n",
        "\n",
        "# Example\n",
        "print(are_anagrams(\"listen\", \"silent\"))"
      ],
      "outputs": [],
      "execution_count": null,
      "id": "kWs7ebAB2na9"
    },
    {
      "cell_type": "markdown",
      "metadata": {
        "id": "1bNsprwZ2na9"
      },
      "source": [
        "### Find All Occurrences of a Substring"
      ],
      "id": "1bNsprwZ2na9"
    },
    {
      "cell_type": "code",
      "metadata": {
        "id": "Pt9P3uK52na9"
      },
      "source": [
        "def find_all_occurrences(s, sub):\n",
        "    start = 0\n",
        "    occurrences = []\n",
        "    while True:\n",
        "        start = s.find(sub, start)\n",
        "        if start == -1:\n",
        "            break\n",
        "        occurrences.append(start)\n",
        "        start += len(sub)\n",
        "    return occurrences\n",
        "\n",
        "# Example\n",
        "print(find_all_occurrences(\"hello hello world\", \"hello\"))"
      ],
      "outputs": [],
      "execution_count": null,
      "id": "Pt9P3uK52na9"
    },
    {
      "cell_type": "markdown",
      "metadata": {
        "id": "FwgTrjos2na9"
      },
      "source": [
        "### Basic String Compression"
      ],
      "id": "FwgTrjos2na9"
    },
    {
      "cell_type": "code",
      "metadata": {
        "id": "DdLawh3s2na-"
      },
      "source": [
        "def string_compression(s):\n",
        "    compressed = []\n",
        "    count = 1\n",
        "    for i in range(1, len(s)):\n",
        "        if s[i] == s[i - 1]:\n",
        "            count += 1\n",
        "        else:\n",
        "            compressed.append(s[i - 1] + str(count))\n",
        "            count = 1\n",
        "    compressed.append(s[-1] + str(count))  # Add the last character group\n",
        "    return ''.join(compressed)\n",
        "\n",
        "# Example\n",
        "print(string_compression(\"aaabbccdee\"))"
      ],
      "outputs": [],
      "execution_count": null,
      "id": "DdLawh3s2na-"
    },
    {
      "cell_type": "markdown",
      "metadata": {
        "id": "p1RrCEK42na-"
      },
      "source": [
        "### Check if a String has All Unique Characters"
      ],
      "id": "p1RrCEK42na-"
    },
    {
      "cell_type": "code",
      "metadata": {
        "id": "cf36bdPh2na-"
      },
      "source": [
        "def has_unique_characters(s):\n",
        "    return len(set(s)) == len(s)\n",
        "\n",
        "# Example\n",
        "print(has_unique_characters(\"abcdef\"))"
      ],
      "outputs": [],
      "execution_count": null,
      "id": "cf36bdPh2na-"
    },
    {
      "cell_type": "markdown",
      "metadata": {
        "id": "AV62tUO72na-"
      },
      "source": [
        "### Convert String to Uppercase or Lowercase"
      ],
      "id": "AV62tUO72na-"
    },
    {
      "cell_type": "code",
      "metadata": {
        "id": "rRlOPPMj2na-"
      },
      "source": [
        "def convert_case(s, to_upper=True):\n",
        "    return s.upper() if to_upper else s.lower()\n",
        "\n",
        "# Example\n",
        "print(convert_case(\"Hello World\", to_upper=False))"
      ],
      "outputs": [],
      "execution_count": null,
      "id": "rRlOPPMj2na-"
    },
    {
      "cell_type": "markdown",
      "metadata": {
        "id": "sEOq1C0q2na-"
      },
      "source": [
        "### Count the Number of Words in a String"
      ],
      "id": "sEOq1C0q2na-"
    },
    {
      "cell_type": "code",
      "metadata": {
        "id": "jkme7KCf2na-"
      },
      "source": [
        "def count_words(s):\n",
        "    return len(s.split())\n",
        "\n",
        "# Example\n",
        "print(count_words(\"hello world this is a test\"))"
      ],
      "outputs": [],
      "execution_count": null,
      "id": "jkme7KCf2na-"
    },
    {
      "cell_type": "markdown",
      "metadata": {
        "id": "4l6GY95j2na-"
      },
      "source": [
        "### Concatenate Two Strings Without Using `+`"
      ],
      "id": "4l6GY95j2na-"
    },
    {
      "cell_type": "code",
      "metadata": {
        "id": "HVTNGCo12na_"
      },
      "source": [
        "def concatenate_strings(s1, s2):\n",
        "    return \"{}{}\".format(s1, s2)\n",
        "\n",
        "# Example\n",
        "print(concatenate_strings(\"hello\", \"world\"))"
      ],
      "outputs": [],
      "execution_count": null,
      "id": "HVTNGCo12na_"
    },
    {
      "cell_type": "markdown",
      "metadata": {
        "id": "M36IsEiR2na_"
      },
      "source": [
        "### Remove All Occurrences of an Element from a List"
      ],
      "id": "M36IsEiR2na_"
    },
    {
      "cell_type": "code",
      "metadata": {
        "id": "ZCzWrDjP2na_"
      },
      "source": [
        "def remove_element(lst, element):\n",
        "    return [x for x in lst if x != element]\n",
        "\n",
        "# Example\n",
        "print(remove_element([1, 2, 3, 1, 4], 1))"
      ],
      "outputs": [],
      "execution_count": null,
      "id": "ZCzWrDjP2na_"
    },
    {
      "cell_type": "markdown",
      "metadata": {
        "id": "VeAdQYOE2na_"
      },
      "source": [
        "### Find the Second Largest Number in a List"
      ],
      "id": "VeAdQYOE2na_"
    },
    {
      "cell_type": "code",
      "metadata": {
        "id": "K8GktKMx2na_"
      },
      "source": [
        "def second_largest(lst):\n",
        "    unique_lst = list(set(lst))\n",
        "    unique_lst.sort(reverse=True)\n",
        "    return unique_lst[1] if len(unique_lst) > 1 else None\n",
        "\n",
        "# Example\n",
        "print(second_largest([3, 1, 4, 4, 2]))"
      ],
      "outputs": [],
      "execution_count": null,
      "id": "K8GktKMx2na_"
    },
    {
      "cell_type": "markdown",
      "metadata": {
        "id": "hzOPLbrG2na_"
      },
      "source": [
        "### Count Occurrences of Each Element in a List"
      ],
      "id": "hzOPLbrG2na_"
    },
    {
      "cell_type": "code",
      "metadata": {
        "id": "xyRet7Ep2na_"
      },
      "source": [
        "from collections import Counter\n",
        "\n",
        "def count_occurrences(lst):\n",
        "    return dict(Counter(lst))\n",
        "\n",
        "# Example\n",
        "print(count_occurrences([\"apple\", \"banana\", \"apple\", \"orange\"]))"
      ],
      "outputs": [],
      "execution_count": null,
      "id": "xyRet7Ep2na_"
    },
    {
      "cell_type": "markdown",
      "metadata": {
        "id": "FwWx1ddL2na_"
      },
      "source": [
        "### Reverse a List In-Place"
      ],
      "id": "FwWx1ddL2na_"
    },
    {
      "cell_type": "code",
      "metadata": {
        "id": "vll8m_AC2na_"
      },
      "source": [
        "def reverse_list(lst):\n",
        "    left, right = 0, len(lst) - 1\n",
        "    while left < right:\n",
        "        lst[left], lst[right] = lst[right], lst[left]\n",
        "        left += 1\n",
        "        right -= 1\n",
        "    return lst\n",
        "\n",
        "# Example\n",
        "print(reverse_list([1, 2, 3, 4]))"
      ],
      "outputs": [],
      "execution_count": null,
      "id": "vll8m_AC2na_"
    }
  ]
}