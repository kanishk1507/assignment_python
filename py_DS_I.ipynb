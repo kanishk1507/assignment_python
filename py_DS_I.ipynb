{
  "nbformat": 4,
  "nbformat_minor": 0,
  "metadata": {
    "colab": {
      "provenance": [],
      "authorship_tag": "ABX9TyNYljp83joENOHfq5azQHPR",
      "include_colab_link": true
    },
    "kernelspec": {
      "name": "python3",
      "display_name": "Python 3"
    },
    "language_info": {
      "name": "python"
    }
  },
  "cells": [
    {
      "cell_type": "markdown",
      "metadata": {
        "id": "view-in-github",
        "colab_type": "text"
      },
      "source": [
        "<a href=\"https://colab.research.google.com/github/kanishk1507/assignment_python/blob/main/py_DS_I.ipynb\" target=\"_parent\"><img src=\"https://colab.research.google.com/assets/colab-badge.svg\" alt=\"Open In Colab\"/></a>"
      ]
    },
    {
      "cell_type": "markdown",
      "source": [
        "**1**.**String Slicing**-\n",
        "String slicing allows you to extract a portion (or \"slice\") of a string based on specified indices.\n",
        "\n",
        "Syntax: string[start:end:step]\n",
        "\n",
        "start: The starting index of the slice (inclusive).\n",
        "end: The ending index of the slice (exclusive).\n",
        "step: The interval at which to take characters (optional).\n"
      ],
      "metadata": {
        "id": "5p8mf89L_CGN"
      }
    },
    {
      "cell_type": "code",
      "execution_count": null,
      "metadata": {
        "id": "-3brSy6y--YW"
      },
      "outputs": [],
      "source": [
        "text = \"Hello, World!\"\n",
        "print(text[0:5])    # Output: 'Hello' (characters from index 0 to 4)\n",
        "print(text[:5])     # Output: 'Hello' (same as above, start defaults to 0)\n",
        "print(text[7:])     # Output: 'World!' (characters from index 7 to the end)\n",
        "print(text[::2])    # Output: 'Hlo ol!' (every second character)\n",
        "print(text[-6:-1])  # Output: 'World' (using negative indexing)\n"
      ]
    },
    {
      "cell_type": "markdown",
      "source": [
        "**2**. **Key Features of Lists in Python**-\n",
        "Lists are a versatile and mutable sequence type in Python with the following features:\n",
        "\n",
        "\n",
        "* Order: Lists maintain the order of elements.\n",
        "* Mutability: You can modify lists (add, remove, or change elements).\n",
        "* Heterogeneous: Lists can contain items of different types.\n",
        "* Indexed: Access elements using indices.\n",
        "* Dynamic sizing: Lists can grow or shrink as needed.\n",
        "\n",
        "\n",
        "\n",
        "**3.**Accessing, Modifying, and Deleting Elements in a List\n",
        "\n",
        "\n",
        "*   Accessing: You can access list elements using an index.\n",
        "*   Modifying: Assign new values to existing indices.\n",
        "*   Deleting: Use del, pop(), or remove() to delete elements."
      ],
      "metadata": {
        "id": "uyXJ345kA74L"
      }
    },
    {
      "cell_type": "code",
      "source": [
        "numbers = [10, 20, 30, 40, 50]\n",
        "\n",
        "# Accessing elements\n",
        "print(numbers[2])\n",
        "\n",
        "# Modifying elements\n",
        "numbers[1] = 25\n",
        "print(numbers)\n",
        "\n",
        "# Deleting elements\n",
        "del numbers[3]\n",
        "print(numbers)\n",
        "\n",
        "numbers.remove(30)\n",
        "print(numbers)\n",
        "\n",
        "numbers.pop()         # Using pop to remove the last item\n",
        "print(numbers)\n"
      ],
      "metadata": {
        "colab": {
          "base_uri": "https://localhost:8080/"
        },
        "id": "ciQ7QXoPCL5W",
        "outputId": "2c38938a-3378-4d5a-97ce-4e6f2c2a5f00"
      },
      "execution_count": 1,
      "outputs": [
        {
          "output_type": "stream",
          "name": "stdout",
          "text": [
            "30\n",
            "[10, 25, 30, 40, 50]\n",
            "[10, 25, 30, 50]\n",
            "[10, 25, 50]\n",
            "[10, 25]\n"
          ]
        }
      ]
    },
    {
      "cell_type": "markdown",
      "source": [
        "**4.**Comparing Tuples and Lists\n",
        "\n",
        "*   Mutable: Lists are mutable while tuples ae not mutable.\n",
        "*   Syntax: list = [1, 2, 3] ; tuple = (1, 2, 3)\n",
        "*   Performance:\tlist is Slower than tuple.\n",
        "*   Use Cases:\tLists are Used in cases where Data needs to be modified, while tuples ae used with Constant data or read-only data.\n",
        "\n",
        "\n",
        "\n",
        "\n",
        "\n"
      ],
      "metadata": {
        "id": "r8c9aMxaEYUv"
      }
    },
    {
      "cell_type": "code",
      "source": [
        "my_list = [1, 2, 3]\n",
        "my_tuple = (1, 2, 3)\n",
        "\n",
        "# Modifying list\n",
        "my_list[0] = 10\n",
        "print(my_list)\n",
        "\n",
        "# Tuples cannot be modified\n",
        "my_tuple[0] = 10    # This will throw a TypeError\n"
      ],
      "metadata": {
        "id": "85rRyRjKGuCw"
      },
      "execution_count": null,
      "outputs": []
    },
    {
      "cell_type": "markdown",
      "source": [
        "**5.** Key Features of Sets-\n",
        "Sets are unordered collections of unique elements, providing these features:\n",
        "\n",
        "*  Unordered: No guaranteed order for elements.\n",
        "*  Unique: Duplicates are not allowed.\n",
        "*  Mutable: You can add or remove elements, but elements themselves must be immutable."
      ],
      "metadata": {
        "id": "mH7COz3YHBcv"
      }
    },
    {
      "cell_type": "code",
      "source": [
        "my_set = {1, 2, 3, 4}\n",
        "\n",
        "# Adding elements\n",
        "my_set.add(5)\n",
        "print(my_set)\n",
        "\n",
        "# Removing elements\n",
        "my_set.remove(3)\n",
        "print(my_set)\n"
      ],
      "metadata": {
        "id": "4zq2ZtPTHYXo"
      },
      "execution_count": null,
      "outputs": []
    },
    {
      "cell_type": "markdown",
      "source": [
        "**6.** Use Cases of Tuples and Sets\n",
        "\n",
        "\n",
        "*   Tuples: Useful for data that shouldn't change, like coordinates (x, y), and as keys in dictionaries.\n",
        "*   Sets: Useful for membership tests and removing duplicates from a collection, e.g., filtering unique items from a list.\n",
        "\n",
        "\n",
        "**7.** Adding, Modifying, and Deleting Items in a Dictionary:\n",
        "\n",
        "Dictionaries store key-value pairs. Each key must be unique and immutable.\n",
        "\n",
        "*   Adding/Updating: Assign a value to a new or existing key.\n",
        "*   Deleting: Use del or pop() to remove entries."
      ],
      "metadata": {
        "id": "xsU5gtmrHcVd"
      }
    },
    {
      "cell_type": "code",
      "source": [
        "# Creating a dictionary\n",
        "student = {\"name\": \"Alice\", \"age\": 21}\n",
        "\n",
        "# Adding/Updating\n",
        "student[\"grade\"] = \"A\"\n",
        "student[\"age\"] = 22\n",
        "print(student)\n",
        "\n",
        "# Deleting\n",
        "del student[\"age\"]\n",
        "print(student)\n",
        "\n",
        "student.pop(\"grade\")\n",
        "print(student)"
      ],
      "metadata": {
        "id": "pmihAqLMJz3s"
      },
      "execution_count": null,
      "outputs": []
    },
    {
      "cell_type": "markdown",
      "source": [
        "**8.**Importance of Dictionary Keys Being Immutable:\n",
        "\n",
        "\n",
        "Dictionary keys must be immutable to ensure they are hashable, enabling fast lookups. Mutable types could change after being added as keys, breaking the dictionary’s integrity."
      ],
      "metadata": {
        "id": "9QYoAJxnJ_gO"
      }
    },
    {
      "cell_type": "code",
      "source": [
        "# Valid immutable key\n",
        "person = {(\"John\", \"Doe\"): 30}\n",
        "\n",
        "# Invalid mutable key\n",
        "person = {[1, 2]: \"Alice\"}  # This will raise a TypeError because lists are mutable\n"
      ],
      "metadata": {
        "id": "lAVVMuDdKGOf"
      },
      "execution_count": null,
      "outputs": []
    }
  ]
}